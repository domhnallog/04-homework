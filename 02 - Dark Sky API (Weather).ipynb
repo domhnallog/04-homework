{
 "cells": [
  {
   "cell_type": "markdown",
   "metadata": {},
   "source": [
    "# Dark Sky API (Weather)\n",
    "\n",
    "Answer the following questions using the [Dark Sky API](https://darksky.net/dev/). I've added three cells for each question but you're free to use more or less! Hold `Shift` and hit `Enter` to run a cell, and use the `+` on the top left to add a new cell to a notebook.\n",
    "\n",
    "If you spend some time reading the documentation your life will probably be a little bit easier!\n",
    "\n",
    "## 0) Import any libraries you might need\n",
    "\n",
    "- *Tip: We're going to be downloading things from the internet, so we probably need `requests`.*"
   ]
  },
  {
   "cell_type": "code",
   "execution_count": 1,
   "metadata": {},
   "outputs": [],
   "source": [
    "import requests"
   ]
  },
  {
   "cell_type": "code",
   "execution_count": 2,
   "metadata": {},
   "outputs": [],
   "source": [
    "from dotenv import load_dotenv\n",
    "load_dotenv()\n",
    "import os\n",
    "secretapikey = os.getenv(\"darksky_apikey\")\n",
    "base_url = \"https://api.darksky.net/forecast/\""
   ]
  },
  {
   "cell_type": "markdown",
   "metadata": {
    "collapsed": true
   },
   "source": [
    "## 1) Make a request from the Dark Sky API for where you were born (or lived, or want to visit!).\n",
    "\n",
    "- *Tip: The URL we used in class was for a place near San Francisco. What was the format of the endpoint that made this happen?*\n",
    "- *Tip: Save the URL as a separate variable, and be sure to not have `[` and `]` inside.*\n",
    "- *Tip: How is north vs. south and east vs. west latitude/longitude represented? Is it the normal North/South/East/West?*\n",
    "- *Tip: You know it's JSON, but Python doesn't! Make sure you aren't trying to deal with plain text.* \n",
    "- *Tip: Once you've imported the JSON into a variable, check the timezone's name to make sure it seems like it got the right part of the world!*"
   ]
  },
  {
   "cell_type": "code",
   "execution_count": 3,
   "metadata": {},
   "outputs": [],
   "source": [
    "latlon_phila = (\"39.96\"+\",\"+\"-75.18\")\n",
    "weather_phila = requests.get(f'{base_url}{secretapikey}/{latlon_phila}').json()"
   ]
  },
  {
   "cell_type": "code",
   "execution_count": 4,
   "metadata": {},
   "outputs": [
    {
     "name": "stdout",
     "output_type": "stream",
     "text": [
      "dict_keys(['latitude', 'longitude', 'timezone', 'currently', 'minutely', 'hourly', 'daily', 'flags', 'offset'])\n"
     ]
    }
   ],
   "source": [
    "print(weather_phila.keys())"
   ]
  },
  {
   "cell_type": "code",
   "execution_count": 5,
   "metadata": {},
   "outputs": [],
   "source": [
    "#weather_phila['daily']"
   ]
  },
  {
   "cell_type": "code",
   "execution_count": 6,
   "metadata": {},
   "outputs": [
    {
     "data": {
      "text/plain": [
       "{'time': 1560229021,\n",
       " 'summary': 'Overcast',\n",
       " 'icon': 'cloudy',\n",
       " 'nearestStormDistance': 22,\n",
       " 'nearestStormBearing': 136,\n",
       " 'precipIntensity': 0,\n",
       " 'precipProbability': 0,\n",
       " 'temperature': 72.96,\n",
       " 'apparentTemperature': 74.5,\n",
       " 'dewPoint': 71.94,\n",
       " 'humidity': 0.97,\n",
       " 'pressure': 1010.34,\n",
       " 'windSpeed': 3.48,\n",
       " 'windGust': 4.32,\n",
       " 'windBearing': 222,\n",
       " 'cloudCover': 0.99,\n",
       " 'uvIndex': 0,\n",
       " 'visibility': 8.19,\n",
       " 'ozone': 314.61}"
      ]
     },
     "execution_count": 6,
     "metadata": {},
     "output_type": "execute_result"
    }
   ],
   "source": [
    "now_phila = weather_phila['currently']\n",
    "now_phila"
   ]
  },
  {
   "cell_type": "markdown",
   "metadata": {},
   "source": [
    "## 2) What's the current wind speed? How much warmer does it feel than it actually is?\n",
    "\n",
    "- *Tip: You can do this by browsing through the dictionaries, but it might be easier to read the documentation*\n",
    "- *Tip: For the second half: it **is** one temperature, and it **feels** a different temperature. Calculate the difference.*"
   ]
  },
  {
   "cell_type": "code",
   "execution_count": 7,
   "metadata": {},
   "outputs": [
    {
     "name": "stdout",
     "output_type": "stream",
     "text": [
      "Windspeed is 3.5 kpm (so 1.9 knots, i guess?).\n"
     ]
    }
   ],
   "source": [
    "print(f\"Windspeed is {now_phila['windSpeed']:.1f} kpm (so {now_phila['windSpeed'] * 0.539957:.1f} knots, i guess?).\")"
   ]
  },
  {
   "cell_type": "code",
   "execution_count": 8,
   "metadata": {},
   "outputs": [
    {
     "name": "stdout",
     "output_type": "stream",
     "text": [
      "The temperature is currently 72 degrees but it feels 2 cooler..\n"
     ]
    }
   ],
   "source": [
    "now_temp = int(now_phila['temperature'])\n",
    "now_tempapp = int(now_phila['apparentTemperature'])\n",
    "now_tempdif = now_temp - now_tempapp\n",
    "if now_tempdif > 0:\n",
    "    feels = (f\"{abs(now_tempdif)} warmer.\")\n",
    "elif now_tempdif < 0:\n",
    "    feels = (f\"{abs(now_tempdif)} cooler.\")\n",
    "else:\n",
    "    feels = \"just like it.\"\n",
    "print(f\"The temperature is currently {now_temp} degrees but it feels {feels}.\")"
   ]
  },
  {
   "cell_type": "markdown",
   "metadata": {},
   "source": [
    "## 3) Today's forecast is the FIRST daily forecast. For the place you decided on above, how much of the moon is currently visible?\n",
    "\n",
    "- *Tip: This does **not** use the `currently` key.*\n",
    "- *Tip: It might be helpful to save the forecast into its own variable*"
   ]
  },
  {
   "cell_type": "code",
   "execution_count": 9,
   "metadata": {},
   "outputs": [
    {
     "data": {
      "text/plain": [
       "{'time': 1560225600,\n",
       " 'summary': 'Mostly cloudy until afternoon.',\n",
       " 'icon': 'partly-cloudy-day',\n",
       " 'sunriseTime': 1560245580,\n",
       " 'sunsetTime': 1560299438,\n",
       " 'moonPhase': 0.3,\n",
       " 'precipIntensity': 0.0071,\n",
       " 'precipIntensityMax': 0.0792,\n",
       " 'precipIntensityMaxTime': 1560236400,\n",
       " 'precipProbability': 0.71,\n",
       " 'precipType': 'rain',\n",
       " 'temperatureHigh': 79.75,\n",
       " 'temperatureHighTime': 1560286800,\n",
       " 'temperatureLow': 58.84,\n",
       " 'temperatureLowTime': 1560330000,\n",
       " 'apparentTemperatureHigh': 79.75,\n",
       " 'apparentTemperatureHighTime': 1560286800,\n",
       " 'apparentTemperatureLow': 58.84,\n",
       " 'apparentTemperatureLowTime': 1560330000,\n",
       " 'dewPoint': 55.91,\n",
       " 'humidity': 0.63,\n",
       " 'pressure': 1014.01,\n",
       " 'windSpeed': 9.64,\n",
       " 'windGust': 28.37,\n",
       " 'windGustTime': 1560247200,\n",
       " 'windBearing': 328,\n",
       " 'cloudCover': 0.55,\n",
       " 'uvIndex': 8,\n",
       " 'uvIndexTime': 1560276000,\n",
       " 'visibility': 9.43,\n",
       " 'ozone': 325.3,\n",
       " 'temperatureMin': 62.35,\n",
       " 'temperatureMinTime': 1560254400,\n",
       " 'temperatureMax': 79.75,\n",
       " 'temperatureMaxTime': 1560286800,\n",
       " 'apparentTemperatureMin': 62.35,\n",
       " 'apparentTemperatureMinTime': 1560254400,\n",
       " 'apparentTemperatureMax': 79.75,\n",
       " 'apparentTemperatureMaxTime': 1560286800}"
      ]
     },
     "execution_count": 9,
     "metadata": {},
     "output_type": "execute_result"
    }
   ],
   "source": [
    "daily_phila = weather_phila['daily']['data']\n",
    "daily_phila[0]"
   ]
  },
  {
   "cell_type": "code",
   "execution_count": 10,
   "metadata": {},
   "outputs": [
    {
     "name": "stdout",
     "output_type": "stream",
     "text": [
      "In its current phase, 30% of the moon should be visible.\n"
     ]
    }
   ],
   "source": [
    "print(f\"In its current phase, {int(daily_phila[0]['moonPhase'] * 100)}% of the moon should be visible.\")"
   ]
  },
  {
   "cell_type": "markdown",
   "metadata": {},
   "source": [
    "## 4) What's the difference between the high and low temperatures for today?"
   ]
  },
  {
   "cell_type": "code",
   "execution_count": 11,
   "metadata": {},
   "outputs": [],
   "source": [
    "tempdif = daily_phila[0]['temperatureHigh'] - daily_phila[0]['temperatureLow']"
   ]
  },
  {
   "cell_type": "code",
   "execution_count": 12,
   "metadata": {},
   "outputs": [
    {
     "name": "stdout",
     "output_type": "stream",
     "text": [
      "There's about a 21 difference in today's high & low temps.\n"
     ]
    }
   ],
   "source": [
    "print(f\"There's about a {abs(tempdif):.0f} difference in today's high & low temps.\")"
   ]
  },
  {
   "cell_type": "markdown",
   "metadata": {},
   "source": [
    "## 5) Go through the daily forecasts, printing out the next week's worth of predictions.\n",
    "\n",
    "I'd like to know the **high temperature** for each day, and whether it's **hot, warm, or cold** (based on what temperatures you think are hot, warm or cold).\n",
    "\n",
    "- *Tip: Is it returning F or C? You can change them by adding `?units=us` or `?units=si` onto the end of the URL.*\n",
    "- *Tip: You'll need to use an `if` statement to say whether it is hot, warm or cold.*"
   ]
  },
  {
   "cell_type": "code",
   "execution_count": 13,
   "metadata": {},
   "outputs": [],
   "source": [
    "from datetime import datetime\n",
    "import calendar\n",
    "degree_sign = u'\\N{DEGREE SIGN}'"
   ]
  },
  {
   "cell_type": "code",
   "execution_count": 21,
   "metadata": {},
   "outputs": [],
   "source": [
    "for day in daily_phila:\n",
    "    day['dt'] = datetime.fromtimestamp(day['time'])\n",
    "    day['dt_clean'] = (day['dt']).strftime('%c').replace(' 00:00:00',',')\n",
    "    day['dt_clean_long'] = (day['dt']).strftime('%A, %B %d')\n",
    "#     print(day['dt'])\n",
    "#     print(type(day['dt']))\n",
    "#     print(day['dt_clean'])\n",
    "#     print(type(day['dt_clean']))"
   ]
  },
  {
   "cell_type": "code",
   "execution_count": 15,
   "metadata": {},
   "outputs": [
    {
     "name": "stdout",
     "output_type": "stream",
     "text": [
      "This week's forecast is:\n",
      "\tTue Jun 11, 2019: pleasant, high of 79°\n",
      "\tWed Jun 12, 2019: pleasant, high of 75°\n",
      "\tThu Jun 13, 2019: pleasant, high of 71°\n",
      "\tFri Jun 14, 2019: pleasant, high of 73°\n",
      "\tSat Jun 15, 2019: warm, high of 83°\n",
      "\tSun Jun 16, 2019: warm, high of 89°\n",
      "\tMon Jun 17, 2019: warm, high of 92°\n",
      "\tTue Jun 18, 2019: warm, high of 87°\n"
     ]
    }
   ],
   "source": [
    "print(\"This week's forecast is:\")\n",
    "for day in daily_phila:\n",
    "    if day['temperatureMax'] >= 95:\n",
    "        temp_desc = 'hot'\n",
    "    elif float(day['temperatureMax']) >= 81:\n",
    "        temp_desc = 'warm'\n",
    "    elif float(day['temperatureMax']) >= 70:\n",
    "        temp_desc = 'pleasant' \n",
    "    elif float(day['temperatureMax']) >= 45:\n",
    "        temp_desc = 'cool'\n",
    "    elif float(day['temperatureMax']) < 45:\n",
    "        temp_desc = 'cold' \n",
    "    print(f\"\\t{day['dt_clean']}: {temp_desc}, high of {int(day['temperatureMax'])}{degree_sign}\")"
   ]
  },
  {
   "cell_type": "markdown",
   "metadata": {},
   "source": [
    "## 6) What will be the hottest day in the next week? What is the high temperature on that day?\n",
    "\n",
    "It's okay if your result looks like `1453363200`. If you want to be extra-fancy, though, format it as a **real date** - the weird number is called a **UNIX timestamp**, which might help in googling.\n",
    "\n",
    "- *Tip: It's okay to skip this if it seems too difficult!*"
   ]
  },
  {
   "cell_type": "code",
   "execution_count": 16,
   "metadata": {},
   "outputs": [],
   "source": [
    "week_highs = [float(day['temperatureMax']) for day in daily_phila]\n",
    "week_high = max(week_highs)"
   ]
  },
  {
   "cell_type": "code",
   "execution_count": 17,
   "metadata": {},
   "outputs": [
    {
     "name": "stdout",
     "output_type": "stream",
     "text": [
      "The warmest day of the week will be Tuesday, June 18 with a high of 92°.\n"
     ]
    }
   ],
   "source": [
    "print(f\"The warmest day of the week will be {day['dt_clean_long']} with a high of {int(week_high)}{degree_sign}.\")"
   ]
  },
  {
   "cell_type": "markdown",
   "metadata": {},
   "source": [
    "## 7) What's the weather looking like for the next 24+ hours in Miami, Florida?\n",
    "\n",
    "I'd like to know the temperature for every hour, and if it's going to have cloud cover of more than 50% say \"{temperature} and cloudy\" instead of just the temperature. \n",
    "\n",
    "\n",
    "- *Tip: Be sure to remember how latitude and longitude are done with positive and negative numbers*\n",
    "- *Tip: How do you represent \"50%\" for cloud cover?*"
   ]
  },
  {
   "cell_type": "code",
   "execution_count": 20,
   "metadata": {},
   "outputs": [
    {
     "data": {
      "text/plain": [
       "{'time': 1560229200,\n",
       " 'summary': 'Humid',\n",
       " 'icon': 'clear-night',\n",
       " 'precipIntensity': 0.0002,\n",
       " 'precipProbability': 0.01,\n",
       " 'precipType': 'rain',\n",
       " 'temperature': 79.28,\n",
       " 'apparentTemperature': 83.06,\n",
       " 'dewPoint': 73.81,\n",
       " 'humidity': 0.83,\n",
       " 'pressure': 1017.3,\n",
       " 'windSpeed': 2.87,\n",
       " 'windGust': 4.28,\n",
       " 'windBearing': 234,\n",
       " 'cloudCover': 0,\n",
       " 'uvIndex': 0,\n",
       " 'visibility': 10,\n",
       " 'ozone': 289.25}"
      ]
     },
     "execution_count": 20,
     "metadata": {},
     "output_type": "execute_result"
    }
   ],
   "source": [
    "latlon_miami = (\"25.76\"+\",\"+\"-80.19\")\n",
    "weather_miami = requests.get(f'{base_url}{secretapikey}/{latlon_miami}').json()\n",
    "hourly_miami = weather_miami['hourly']['data']\n",
    "hourly_miami[0]"
   ]
  },
  {
   "cell_type": "code",
   "execution_count": null,
   "metadata": {},
   "outputs": [],
   "source": [
    "print(f\"Here is the weather forecast in miami for the next 24 hours:\")\n",
    "for hour in hourly_miami:\n",
    "    hour['dt'] = datetime.fromtimestamp(day['time'])\n",
    "    hour['dt_clean'] = (day['dt']).strftime('%c').replace(' 00:00:00',',')\n",
    "    hour['dt_clean_long'] = (day['dt']).strftime('%A, %B %d')#.replace(' 00:00:00',',')\n",
    "for hour in hourly_miami:\n",
    "    if hour['temperatureMax'] >= 95:\n",
    "        temp_desc = 'hot'\n",
    "    elif float(hour['temperatureMax']) >= 81:\n",
    "        temp_desc = 'warm'\n",
    "    elif float(hour['temperatureMax']) >= 70:\n",
    "        temp_desc = 'pleasant' \n",
    "    elif float(hour['temperatureMax']) >= 45:\n",
    "        temp_desc = 'cool'\n",
    "    elif float(hour['temperatureMax']) < 45:\n",
    "        temp_desc = 'cold' \n",
    "    print(f\"\\t{day['dt_clean']}: {temp_desc}, high of {int(day['temperatureMax'])}{degree_sign}\")"
   ]
  },
  {
   "cell_type": "code",
   "execution_count": null,
   "metadata": {},
   "outputs": [],
   "source": []
  },
  {
   "cell_type": "markdown",
   "metadata": {},
   "source": [
    "## 8) For the next 24-ish hours in Miami, what percent of the time is the temperature above 85 degrees?\n",
    "\n",
    "If they give you 48 hours instead of 24, that's okay.\n",
    "\n",
    "- *Tip: You might want to read up on [looping patterns](http://jonathansoma.com/lede/foundations-2017/classes/data%20structures/looping-patterns/)*"
   ]
  },
  {
   "cell_type": "code",
   "execution_count": null,
   "metadata": {},
   "outputs": [],
   "source": []
  },
  {
   "cell_type": "code",
   "execution_count": null,
   "metadata": {},
   "outputs": [],
   "source": []
  },
  {
   "cell_type": "code",
   "execution_count": null,
   "metadata": {},
   "outputs": [],
   "source": []
  },
  {
   "cell_type": "markdown",
   "metadata": {},
   "source": [
    "## 9) What was the temperature in Central Park on Christmas Day, 2012? How about 2007? 2005? How far back does the API allow you to go?\n",
    "\n",
    "- *Tip: You'll need to use UNIX time, which is the number of seconds since January 1, 1970. Google can help you convert a normal date!*\n",
    "- *Tip: You'll want to use Forecast.io's \"time machine\" API, [documentation here](https://darksky.net/dev/docs/time-machine)*"
   ]
  },
  {
   "cell_type": "code",
   "execution_count": null,
   "metadata": {},
   "outputs": [],
   "source": []
  },
  {
   "cell_type": "code",
   "execution_count": null,
   "metadata": {},
   "outputs": [],
   "source": []
  },
  {
   "cell_type": "code",
   "execution_count": null,
   "metadata": {},
   "outputs": [],
   "source": []
  }
 ],
 "metadata": {
  "kernelspec": {
   "display_name": "Python 3",
   "language": "python",
   "name": "python3"
  },
  "language_info": {
   "codemirror_mode": {
    "name": "ipython",
    "version": 3
   },
   "file_extension": ".py",
   "mimetype": "text/x-python",
   "name": "python",
   "nbconvert_exporter": "python",
   "pygments_lexer": "ipython3",
   "version": "3.7.3"
  }
 },
 "nbformat": 4,
 "nbformat_minor": 1
}
